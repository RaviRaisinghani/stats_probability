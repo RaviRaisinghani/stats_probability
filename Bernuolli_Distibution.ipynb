{
 "cells": [
  {
   "cell_type": "markdown",
   "id": "5784dced-7d60-423b-817e-17c30618555f",
   "metadata": {},
   "source": [
    "## Bernuolli Distribution"
   ]
  },
  {
   "cell_type": "code",
   "execution_count": 1,
   "id": "a726436e-7582-462b-88e0-9de9d5fa0ea6",
   "metadata": {},
   "outputs": [
    {
     "name": "stderr",
     "output_type": "stream",
     "text": [
      "2023-01-11 22:33:41.375379: W tensorflow/stream_executor/platform/default/dso_loader.cc:64] Could not load dynamic library 'libcudart.so.11.0'; dlerror: libcudart.so.11.0: cannot open shared object file: No such file or directory\n",
      "2023-01-11 22:33:41.375417: I tensorflow/stream_executor/cuda/cudart_stub.cc:29] Ignore above cudart dlerror if you do not have a GPU set up on your machine.\n"
     ]
    }
   ],
   "source": [
    "#Bernuolli distribution \n",
    "'''\n",
    "Bernuolli distribution leads to several probability distributions \n",
    "1. The Binomial distribution \n",
    "2. Geometric distribution\n",
    "3. The Negative binomial distribution\n",
    "'''\n",
    "\n",
    "## We will take a look at the coin toss \n",
    "\n",
    "import tensorflow as tf\n",
    "import tensorflow_probability as tfp\n",
    "\n",
    "tfd = tfp.distributions"
   ]
  },
  {
   "cell_type": "code",
   "execution_count": 2,
   "id": "911396be-f15b-4f73-a2d8-dad861677cf2",
   "metadata": {},
   "outputs": [
    {
     "name": "stderr",
     "output_type": "stream",
     "text": [
      "2023-01-11 22:33:49.707243: W tensorflow/stream_executor/platform/default/dso_loader.cc:64] Could not load dynamic library 'libcuda.so.1'; dlerror: libcuda.so.1: cannot open shared object file: No such file or directory\n",
      "2023-01-11 22:33:49.707289: W tensorflow/stream_executor/cuda/cuda_driver.cc:269] failed call to cuInit: UNKNOWN ERROR (303)\n",
      "2023-01-11 22:33:49.707321: I tensorflow/stream_executor/cuda/cuda_diagnostics.cc:156] kernel driver does not appear to be running on this host (default): /proc/driver/nvidia/version does not exist\n",
      "2023-01-11 22:33:49.710078: I tensorflow/core/platform/cpu_feature_guard.cc:151] This TensorFlow binary is optimized with oneAPI Deep Neural Network Library (oneDNN) to use the following CPU instructions in performance-critical operations:  AVX2 AVX512F FMA\n",
      "To enable them in other operations, rebuild TensorFlow with the appropriate compiler flags.\n"
     ]
    }
   ],
   "source": [
    "coin_toss = tfd.Bernoulli(0.5,name=\"coin_toss\")"
   ]
  },
  {
   "cell_type": "code",
   "execution_count": 3,
   "id": "90eb5e2f-a0a4-4301-918c-d7d758d4c9d2",
   "metadata": {},
   "outputs": [
    {
     "data": {
      "text/plain": [
       "<tfp.distributions.Bernoulli 'coin_toss' batch_shape=[] event_shape=[] dtype=int32>"
      ]
     },
     "execution_count": 3,
     "metadata": {},
     "output_type": "execute_result"
    }
   ],
   "source": [
    "coin_toss"
   ]
  },
  {
   "cell_type": "code",
   "execution_count": 4,
   "id": "e32c7fbd-0de9-4a55-9d03-507fe06864b5",
   "metadata": {},
   "outputs": [
    {
     "data": {
      "text/plain": [
       "<tf.Tensor: shape=(), dtype=int32, numpy=0>"
      ]
     },
     "execution_count": 4,
     "metadata": {},
     "output_type": "execute_result"
    }
   ],
   "source": [
    "coin_toss.sample()"
   ]
  },
  {
   "cell_type": "code",
   "execution_count": 5,
   "id": "26d2a999-d323-4fb0-b2cd-1932e996ec56",
   "metadata": {},
   "outputs": [],
   "source": [
    "coin_toss_data = coin_toss.sample(100)"
   ]
  },
  {
   "cell_type": "code",
   "execution_count": 6,
   "id": "d5fef95b-f047-423c-af59-e1c9e007edf8",
   "metadata": {},
   "outputs": [],
   "source": [
    "probability_of_data_points = coin_toss.prob(coin_toss_data)\n"
   ]
  },
  {
   "cell_type": "code",
   "execution_count": 7,
   "id": "c40c5253-e9f8-4502-91e4-0a14d736176e",
   "metadata": {},
   "outputs": [],
   "source": [
    "#computing the likelihood - use product_reduce\n",
    "\n",
    "#Likelihood of dataset - coin_toss_data\n",
    "likelihood = tf.cast(tf.reduce_prod(probability_of_data_points),\"float\")"
   ]
  },
  {
   "cell_type": "code",
   "execution_count": 8,
   "id": "50c3648f-4e0d-42c9-beff-038ae17d0944",
   "metadata": {},
   "outputs": [
    {
     "data": {
      "text/plain": [
       "<tf.Tensor: shape=(), dtype=float32, numpy=1.4437895e-29>"
      ]
     },
     "execution_count": 8,
     "metadata": {},
     "output_type": "execute_result"
    }
   ],
   "source": [
    "likelihood"
   ]
  },
  {
   "cell_type": "code",
   "execution_count": 9,
   "id": "f301bcb5-6401-4857-8984-dde8b27b6ae7",
   "metadata": {},
   "outputs": [
    {
     "data": {
      "text/plain": [
       "'\\nMLE of Bernuolli can very easily be derived. MLE is used to estimate the parameter of the distribution. \\nMLE of bernuolli is mean of the dataset.\\n'"
      ]
     },
     "execution_count": 9,
     "metadata": {},
     "output_type": "execute_result"
    }
   ],
   "source": [
    "'''\n",
    "MLE of Bernuolli can very easily be derived. MLE is used to estimate the parameter of the distribution. \n",
    "MLE of bernuolli is mean of the dataset.\n",
    "'''"
   ]
  },
  {
   "cell_type": "markdown",
   "id": "41dd6e4d-71f2-4627-8325-d973d94a2064",
   "metadata": {
    "tags": []
   },
   "source": [
    "## MLE using closed form approach"
   ]
  },
  {
   "cell_type": "code",
   "execution_count": 10,
   "id": "7786fb0d-f8de-496a-a122-ba2f53dc3ccc",
   "metadata": {},
   "outputs": [
    {
     "name": "stdout",
     "output_type": "stream",
     "text": [
      "The MLE of Bernoulli distribution is 0.6079999804496765\n"
     ]
    }
   ],
   "source": [
    "#let use the coin_toss \n",
    "#MLE  - Max likelihood estimation \n",
    "\n",
    "mle = tf.reduce_mean(tf.cast(coin_toss.sample(1000),\"float\"))\n",
    "print(f\"The MLE of Bernoulli distribution is {mle}\")"
   ]
  },
  {
   "cell_type": "markdown",
   "id": "5816713b-a544-4e22-9f72-e0a10e9babc1",
   "metadata": {},
   "source": [
    "# MLE using Gradient Descent based approach"
   ]
  },
  {
   "cell_type": "code",
   "execution_count": 13,
   "id": "586400d5-d0a2-4341-9061-0da7d5234369",
   "metadata": {},
   "outputs": [],
   "source": [
    "'''\n",
    "Coin toss experiment -> Coin toss can be modeled as Bernuolli distribution as \n",
    "'''\n",
    "\n",
    "coin_toss_distribution = tfd.Bernoulli(probs=0.5,name=\"coin_toss_distribution\")\n"
   ]
  },
  {
   "cell_type": "code",
   "execution_count": 14,
   "id": "2b033702-7f9d-4102-be5d-b6fecd871949",
   "metadata": {},
   "outputs": [],
   "source": [
    "#Sample some data from this distribution\n",
    "coin_toss_dataset = coin_toss_distribution.sample(100)"
   ]
  },
  {
   "cell_type": "code",
   "execution_count": 15,
   "id": "4dce0aea-1fd7-454c-bc8c-3c1052545325",
   "metadata": {},
   "outputs": [
    {
     "data": {
      "text/plain": [
       "<tf.Tensor: shape=(100,), dtype=int32, numpy=\n",
       "array([1, 0, 0, 1, 0, 0, 0, 1, 1, 1, 1, 0, 0, 1, 1, 1, 1, 0, 0, 1, 1, 0,\n",
       "       0, 1, 0, 1, 1, 0, 0, 0, 0, 1, 0, 1, 1, 1, 1, 1, 0, 1, 0, 1, 1, 0,\n",
       "       0, 0, 1, 0, 1, 1, 1, 1, 1, 0, 0, 1, 1, 0, 1, 0, 1, 1, 0, 0, 1, 0,\n",
       "       0, 0, 0, 0, 0, 1, 0, 1, 1, 0, 1, 1, 1, 0, 1, 0, 1, 0, 1, 0, 0, 0,\n",
       "       0, 1, 1, 0, 0, 0, 0, 1, 0, 1, 1, 0], dtype=int32)>"
      ]
     },
     "execution_count": 15,
     "metadata": {},
     "output_type": "execute_result"
    }
   ],
   "source": [
    "coin_toss_dataset"
   ]
  },
  {
   "cell_type": "code",
   "execution_count": 39,
   "id": "ee07e118-a355-4dc1-82e8-cf7e4ef74115",
   "metadata": {},
   "outputs": [],
   "source": [
    "#Define the variable that made to fit the bernuolli = this is theta\n",
    "\n",
    "#initialize - theta can only between [0,1] and hence use TransformedVariable \n",
    "\n",
    "#Transformedvaraible uses bijector  - \n",
    "\n",
    "theta_coin_toss = tfp.util.TransformedVariable(0.1, bijector=tfp.bijectors.SoftClip(low=0.0,high=1.0),name=\"theta_coin_toss\")\n",
    "\n",
    "\n"
   ]
  },
  {
   "cell_type": "code",
   "execution_count": 40,
   "id": "7a277844-3281-4a40-a6d9-2852ef6d3f84",
   "metadata": {},
   "outputs": [],
   "source": [
    "coin_toss_fit_model = tfp.distributions.Bernoulli(probs=theta_coin_toss,name=\"coin_toss_fit_model\")"
   ]
  },
  {
   "cell_type": "markdown",
   "id": "154e2f07-d2d8-4397-bbdb-473392b3948c",
   "metadata": {},
   "source": [
    "## Define loss function - for gradient descent - we minimize negative log likelihood function "
   ]
  },
  {
   "cell_type": "code",
   "execution_count": 41,
   "id": "f50c8ab4-f422-49f6-b1d9-0c025fe549f7",
   "metadata": {},
   "outputs": [],
   "source": [
    "#nll is defined as function that does not take any arguments - \n",
    "\n",
    "negative_log_likelihood = lambda : - tf.reduce_sum(coin_toss_fit_model.log_prob(coin_toss_dataset))"
   ]
  },
  {
   "cell_type": "code",
   "execution_count": 42,
   "id": "1525b8dc-c4d1-4c0c-89ac-e1c45c946cde",
   "metadata": {},
   "outputs": [
    {
     "data": {
      "text/plain": [
       "<tf.Tensor: shape=(), dtype=float32, numpy=120.39723>"
      ]
     },
     "execution_count": 42,
     "metadata": {},
     "output_type": "execute_result"
    }
   ],
   "source": [
    "# Loss at the start - before the gradient descent starts \n",
    "\n",
    "negative_log_likelihood()    "
   ]
  },
  {
   "cell_type": "code",
   "execution_count": 43,
   "id": "7cf073dc-e2ff-406e-9161-8fe68cf50c26",
   "metadata": {},
   "outputs": [],
   "source": [
    "# Setting GD as optimization process \n",
    "\n",
    "loss_data = tfp.math.minimize(loss_fn=negative_log_likelihood,optimizer=tf.optimizers.Adam(learning_rate=0.1),num_steps=1000)"
   ]
  },
  {
   "cell_type": "code",
   "execution_count": 44,
   "id": "371c635e-f1cc-4b49-9346-7097e517dd03",
   "metadata": {},
   "outputs": [],
   "source": [
    "loss_data_numpy= loss_data.numpy()"
   ]
  },
  {
   "cell_type": "markdown",
   "id": "9e78f305-cea6-4016-9b32-697f66840f66",
   "metadata": {},
   "source": [
    "## Plot the loss function"
   ]
  },
  {
   "cell_type": "code",
   "execution_count": 53,
   "id": "2fbaec22-8c4d-47f5-8ed7-a80509cfd34c",
   "metadata": {},
   "outputs": [
    {
     "data": {
      "image/png": "[encoded data removed]",
      "text/plain": [
       "<Figure size 432x288 with 1 Axes>"
      ]
     },
     "metadata": {
      "needs_background": "light"
     },
     "output_type": "display_data"
    }
   ],
   "source": [
    "import matplotlib.pyplot as plt\n",
    "plt.plot(loss_data_numpy)\n",
    "plt.ylabel('Loss')\n",
    "plt.xlabel('Training Steps')\n",
    "plt.show()"
   ]
  },
  {
   "cell_type": "code",
   "execution_count": 46,
   "id": "1519cfe6-c39b-4c11-a97f-65cec64a11ef",
   "metadata": {},
   "outputs": [
    {
     "data": {
      "text/plain": [
       "<TransformedVariable: name=theta_coin_toss, dtype=float32, shape=[], fn=\"soft_clip\", numpy=0.5>"
      ]
     },
     "execution_count": 46,
     "metadata": {},
     "output_type": "execute_result"
    }
   ],
   "source": [
    "theta_coin_toss"
   ]
  },
  {
   "cell_type": "code",
   "execution_count": 47,
   "id": "124b39b9-1cf5-46e3-b5c1-a592a7f6c7bc",
   "metadata": {},
   "outputs": [],
   "source": [
    "## See after 1000 steps - the most probable value of theta that is achieved is 0.5 \n",
    "## Note we started form 0.4 as our initial guess "
   ]
  },
  {
   "cell_type": "code",
   "execution_count": 48,
   "id": "c8a66c81-9bbf-48a2-9582-53f4f6368c75",
   "metadata": {},
   "outputs": [
    {
     "data": {
      "text/plain": [
       "<tf.Tensor: shape=(), dtype=float32, numpy=0.5>"
      ]
     },
     "execution_count": 48,
     "metadata": {},
     "output_type": "execute_result"
    }
   ],
   "source": [
    "#\n",
    "tf.reduce_mean(tf.cast(coin_toss_dataset,float))"
   ]
  },
  {
   "cell_type": "code",
   "execution_count": 49,
   "id": "c54a1a05-6a23-4caf-8d16-2f229276205d",
   "metadata": {},
   "outputs": [],
   "source": [
    "'''\n",
    "Compare theta_coin_toss and tf.reduce_mean(tf.cast(coin_toss_dataset,float))\n",
    "shows the solution has converged.\n",
    "'''"
   ]
  },
  {
   "cell_type": "code",
   "execution_count": null,
   "id": "b3aaf3bf-f87a-480b-ab84-e9a1b5a7fdb7",
   "metadata": {},
   "outputs": [],
   "source": []
  }
 ],
 "metadata": {
  "kernelspec": {
   "display_name": "default:Python",
   "language": "python",
   "name": "conda-env-default-py"
  },
  "language_info": {
   "codemirror_mode": {
    "name": "ipython",
    "version": 3
   },
   "file_extension": ".py",
   "mimetype": "text/x-python",
   "name": "python",
   "nbconvert_exporter": "python",
   "pygments_lexer": "ipython3",
   "version": "3.9.10"
  }
 },
 "nbformat": 4,
 "nbformat_minor": 5
}

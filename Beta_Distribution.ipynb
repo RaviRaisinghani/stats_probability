{
 "cells": [
  {
   "cell_type": "markdown",
   "id": "c0fcd576-2b1f-42cb-91c6-7d7ef44c7aee",
   "metadata": {
    "tags": []
   },
   "source": [
    "## Beta Distribution - using Tensorflow probability"
   ]
  },
  {
   "cell_type": "markdown",
   "id": "d9601a08-a597-4901-a5d5-f0eb2c0f05b0",
   "metadata": {},
   "source": [
    "''' The beta distribution is a continuous probability distribution that models random variables with values falling inside a finite interval. Commonly used to model the time to complete a task, the distribution of order statistics, and the prior distribution for binomial proportions in Bayesian analysis.\n",
    "\n",
    "The standard beta distribution uses the interval [0,1]. This range is ideal for modeling probabilities, particularly for experiments with only two outcomes.\n",
    "\n",
    "'''"
   ]
  },
  {
   "cell_type": "code",
   "execution_count": 31,
   "id": "f4a7b45b-d947-476c-a2ae-edb3929771a2",
   "metadata": {},
   "outputs": [],
   "source": [
    "import os\n",
    "os.environ['TF_CPP_MIN_LOG_LEVEL'] = '3' \n",
    "import tensorflow as tf\n",
    "import tensorflow_probability as tfp\n",
    "import numpy as np\n",
    "tfd = tfp.distributions"
   ]
  },
  {
   "cell_type": "markdown",
   "id": "3cdda64d-04e8-4034-b30e-c730c6dab4b5",
   "metadata": {},
   "source": [
    "## Problem 1: Model the probability of getting less than 30% heads in coin toss game\n"
   ]
  },
  {
   "cell_type": "markdown",
   "id": "f7fa1c8c-5dfc-463d-ad8e-180f10c08517",
   "metadata": {},
   "source": [
    "To model the probability of probabilities we need to use beta distribution. Beta distribution has two parameter alpha and beta. These two parameters control where the probability density would be concentrated. Higher alpha would shift the probability density to right where higher beta will shift the probability density to left. \n",
    "\n",
    "Beta distribution is approximately normal when bot alpha and beta is large and is very close to each other."
   ]
  },
  {
   "cell_type": "markdown",
   "id": "4a30597b-1a38-4290-84f5-4839eaa0dab0",
   "metadata": {},
   "source": [
    "$$ PDF(\\Theta) \\propto \\beta(\\Theta;\\alpha,\\beta) \\propto \\Theta^{\\alpha-1} (1-\\theta)^{\\beta-1} $$\n",
    "\n",
    "$$  \\propto = 1/\\beta(\\alpha,\\beta) $$"
   ]
  },
  {
   "cell_type": "markdown",
   "id": "42c95293-3464-4aa2-ba66-ed0464b02fb6",
   "metadata": {},
   "source": [
    "Hence"
   ]
  },
  {
   "cell_type": "markdown",
   "id": "ac24779b-0263-4472-939e-e879a9cc0e78",
   "metadata": {},
   "source": [
    "$$ \\Theta \\propto \\beta(\\Theta;\\alpha,\\beta) = (1/\\beta(\\alpha,\\beta))* \\Theta^{\\alpha-1} (1-\\theta)^{\\beta-1} $$"
   ]
  },
  {
   "cell_type": "markdown",
   "id": "630a8b9e-8676-4d18-beac-901164c1e203",
   "metadata": {},
   "source": [
    "Now to solve the problem - we will have to simulate the values of alpha and beta which are parameters of Beta distribution.\n",
    "\n",
    "Considering the coin is fair p =0.5 this is is our prior. Coin toss can be represented with binomial distribution. 1 for head and 0 for tail. \n",
    "\n",
    "Whenever head appears we increase alpha by 1 otherwise we increase beta by 1, this allows for the continuous update of prior probability as new data is simulated.\n",
    "\n",
    "\n",
    "At this time we are simulating for 1000 coin tosses.\n",
    "\n",
    "\n"
   ]
  },
  {
   "cell_type": "code",
   "execution_count": 30,
   "id": "648b2cda-0c41-46ae-ab63-f79fb4c4c631",
   "metadata": {},
   "outputs": [
    {
     "name": "stdout",
     "output_type": "stream",
     "text": [
      "After Simulation value of alpha is 502.0 and value of beta is 497.0\n"
     ]
    }
   ],
   "source": [
    "alpha=0\n",
    "beta=0\n",
    "\n",
    "for coin_flip in range(1,1000):\n",
    "    toss_distribution = tfd.Binomial(1,probs=0.5)\n",
    "    toss_head = binomial_dist.sample().numpy()\n",
    "    alpha += toss_head\n",
    "    beta += 1-toss_head\n",
    "    \n",
    "\n",
    "print(f\"After Simulation value of alpha is {alpha} and value of beta is {beta}\")\n",
    "    "
   ]
  },
  {
   "cell_type": "code",
   "execution_count": 41,
   "id": "abac8b66-b0d7-4d95-aeb0-22afee956e1f",
   "metadata": {},
   "outputs": [
    {
     "name": "stdout",
     "output_type": "stream",
     "text": [
      "So the probability of less than 30% heads in 1000 coin flips is 5.539695354056863e-41\n"
     ]
    }
   ],
   "source": [
    "# Use these alpha and beta to compute the PDF(x<=0.3) = CDF(x=0.3)\n",
    "\n",
    "#alpha is concentration0,\n",
    "#beta is concentration1\n",
    "\n",
    "coin_toss_beta = tfd.Beta(alpha,beta)\n",
    "prob_head= coin_toss_beta.cdf(0.3)\n",
    "\n",
    "print(f\"So the probability of less than 30% heads in 1000 coin flips is {prob_head}\")\n"
   ]
  },
  {
   "cell_type": "markdown",
   "id": "80a96731-0b73-4dad-bd00-0fc9890ffa28",
   "metadata": {},
   "source": [
    "As we can see the probability of getting less than 30% heads is very small"
   ]
  },
  {
   "cell_type": "code",
   "execution_count": 68,
   "id": "28f9ef29-9fa8-482b-81ea-e6fb5fce8d1b",
   "metadata": {},
   "outputs": [],
   "source": [
    "# Let us create a simulation class - to take on different priors and see how this \n",
    "\n",
    "class coin_toss:\n",
    "    \n",
    "    def __init__(self,prior_prob):\n",
    "        self.prior_prob = prior_prob\n",
    "        \n",
    "        #TF calls alpha and beta concentration_0 and concentration_1\n",
    "        self.concentration_0= 0\n",
    "        self.concentration_1= 0\n",
    "        \n",
    "        \n",
    "    def perform_coin_toss(self):\n",
    "        \n",
    "        coin_toss_binomial = tfd.Binomial(1,probs=self.prior_prob)\n",
    "        toss_head_data = coin_toss_binomial.sample().numpy()\n",
    "        self.concentration_0 += toss_head_data\n",
    "        self.concentration_1 += 1-toss_head_data\n",
    "        \n",
    "    \n",
    "    def calculate_beta_cdf(self,x):\n",
    "\n",
    "        coin_toss_distribution = tfd.Beta(self.concentration_0,self.concentration_1)\n",
    "        cdf= coin_toss_distribution.cdf(x)\n",
    "        print(f\"So the probability of less than {x}% heads in 1000 coin flips is {cdf}\")\n",
    "        return cdf\n",
    "        \n",
    "        \n",
    "        \n",
    "        \n",
    "        \n",
    "        \n",
    "        "
   ]
  },
  {
   "cell_type": "code",
   "execution_count": 71,
   "id": "dea0cec4-f905-43ab-9624-fa596462ede9",
   "metadata": {},
   "outputs": [
    {
     "name": "stdout",
     "output_type": "stream",
     "text": [
      "After simulation alpha is 789.0 and beta is 210.0\n"
     ]
    }
   ],
   "source": [
    "\n",
    "coin_toss_obj = coin_toss(prior_prob=0.8)\n",
    "\n",
    "for coin_flip in range(1,1000):\n",
    "    coin_toss_obj.perform_coin_toss()\n",
    "    \n",
    "\n",
    "print(f\"After simulation alpha is {coin_toss_obj.concentration_0} and beta is {coin_toss_obj.concentration_1}\")    "
   ]
  },
  {
   "cell_type": "markdown",
   "id": "e4916ed6-b07f-4031-b9ea-94ddf65c8193",
   "metadata": {},
   "source": [
    "## Experiment 2 : With Unfair coin which has higher probabililty for heads "
   ]
  },
  {
   "cell_type": "code",
   "execution_count": 73,
   "id": "89102f1f-61a6-4739-a4a8-dc0b69212e4b",
   "metadata": {},
   "outputs": [
    {
     "name": "stdout",
     "output_type": "stream",
     "text": [
      "self.concentration_0 789.0\n",
      "self.concentration_1 210.0\n",
      "So the probability of less than 30% heads in 1000 coin flips is 1.1117638411103662e-224\n"
     ]
    },
    {
     "data": {
      "text/plain": [
       "<tf.Tensor: shape=(), dtype=float64, numpy=1.1117638411103662e-224>"
      ]
     },
     "execution_count": 73,
     "metadata": {},
     "output_type": "execute_result"
    }
   ],
   "source": [
    "coin_toss_obj.calculate_beta_cdf(0.3)"
   ]
  },
  {
   "cell_type": "code",
   "execution_count": 74,
   "id": "8d91238f-f8cc-4175-b6b8-760b4d6e5916",
   "metadata": {},
   "outputs": [],
   "source": [
    "#Unfair coin has very small probability that less than 30% heads will show up in 1000 tosses"
   ]
  },
  {
   "cell_type": "code",
   "execution_count": null,
   "id": "e3ce0ea1-02aa-4f09-82cd-de15d1d57233",
   "metadata": {},
   "outputs": [],
   "source": []
  }
 ],
 "metadata": {
  "kernelspec": {
   "display_name": "default:Python",
   "language": "python",
   "name": "conda-env-default-py"
  },
  "language_info": {
   "codemirror_mode": {
    "name": "ipython",
    "version": 3
   },
   "file_extension": ".py",
   "mimetype": "text/x-python",
   "name": "python",
   "nbconvert_exporter": "python",
   "pygments_lexer": "ipython3",
   "version": "3.9.10"
  }
 },
 "nbformat": 4,
 "nbformat_minor": 5
}
